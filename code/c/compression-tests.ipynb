{
 "metadata": {
  "name": ""
 },
 "nbformat": 3,
 "nbformat_minor": 0,
 "worksheets": [
  {
   "cells": [
    {
     "cell_type": "code",
     "collapsed": false,
     "input": [
      "import csv\n",
      "import matplotlib.pyplot as plt\n",
      "import math\n",
      "from math import log\n",
      "import numpy as np\n",
      "import pandas as pd\n",
      "%matplotlib inline\n",
      "#%matplotlib tk\n",
      "from __future__ import division\n",
      "import os\n"
     ],
     "language": "python",
     "metadata": {},
     "outputs": [],
     "prompt_number": 2
    },
    {
     "cell_type": "code",
     "collapsed": false,
     "input": [
      "filename = \"compression_test.csv\"\n",
      "\n",
      "# Read params\n",
      "params = \"\"\n",
      "with open(filename, 'r') as f:\n",
      "  params = f.readline()\n",
      "    \n",
      "# Read data\n",
      "test = pd.read_csv(filename)\n",
      "test.tail()"
     ],
     "language": "python",
     "metadata": {},
     "outputs": [
      {
       "html": [
        "<div style=\"max-height:1000px;max-width:1500px;overflow:auto;\">\n",
        "<table border=\"1\" class=\"dataframe\">\n",
        "  <thead>\n",
        "    <tr style=\"text-align: right;\">\n",
        "      <th></th>\n",
        "      <th>Entity Size</th>\n",
        "      <th>Cardinality</th>\n",
        "      <th>Insertion time(1000)</th>\n",
        "      <th>Compression Time</th>\n",
        "      <th>Size Uncompressed (bytes)</th>\n",
        "      <th>Size Compressed (bytes)</th>\n",
        "    </tr>\n",
        "  </thead>\n",
        "  <tbody>\n",
        "    <tr>\n",
        "      <td><strong>39</strong></td>\n",
        "      <td>  700000</td>\n",
        "      <td> 0.8</td>\n",
        "      <td> 477</td>\n",
        "      <td> 151268</td>\n",
        "      <td> 240</td>\n",
        "      <td> 2240240</td>\n",
        "    </tr>\n",
        "    <tr>\n",
        "      <td><strong>40</strong></td>\n",
        "      <td> 1000000</td>\n",
        "      <td> 0.2</td>\n",
        "      <td> 481</td>\n",
        "      <td>  87130</td>\n",
        "      <td> 240</td>\n",
        "      <td> 4000240</td>\n",
        "    </tr>\n",
        "    <tr>\n",
        "      <td><strong>41</strong></td>\n",
        "      <td> 1000000</td>\n",
        "      <td> 0.4</td>\n",
        "      <td> 477</td>\n",
        "      <td> 125803</td>\n",
        "      <td> 240</td>\n",
        "      <td> 3200240</td>\n",
        "    </tr>\n",
        "    <tr>\n",
        "      <td><strong>42</strong></td>\n",
        "      <td> 1000000</td>\n",
        "      <td> 0.6</td>\n",
        "      <td> 491</td>\n",
        "      <td> 153392</td>\n",
        "      <td> 240</td>\n",
        "      <td> 2400240</td>\n",
        "    </tr>\n",
        "    <tr>\n",
        "      <td><strong>43</strong></td>\n",
        "      <td> 1000000</td>\n",
        "      <td> 0.8</td>\n",
        "      <td> 478</td>\n",
        "      <td> 196838</td>\n",
        "      <td> 240</td>\n",
        "      <td> 3200240</td>\n",
        "    </tr>\n",
        "  </tbody>\n",
        "</table>\n",
        "</div>"
       ],
       "metadata": {},
       "output_type": "pyout",
       "prompt_number": 29,
       "text": [
        "    Entity Size  Cardinality  Insertion time(1000)  Compression Time  \\\n",
        "39       700000          0.8                   477            151268   \n",
        "40      1000000          0.2                   481             87130   \n",
        "41      1000000          0.4                   477            125803   \n",
        "42      1000000          0.6                   491            153392   \n",
        "43      1000000          0.8                   478            196838   \n",
        "\n",
        "    Size Uncompressed (bytes)  Size Compressed (bytes)  \n",
        "39                        240                  2240240  \n",
        "40                        240                  4000240  \n",
        "41                        240                  3200240  \n",
        "42                        240                  2400240  \n",
        "43                        240                  3200240  "
       ]
      }
     ],
     "prompt_number": 29
    },
    {
     "cell_type": "code",
     "collapsed": false,
     "input": [
      "ind = np.arange(len(test)/2)\n",
      "width = 0.20\n",
      "\n",
      "# Ticks\n",
      "plt.xticks(ind, test[\"Entity Size\"], rotation=90) \n",
      "\n",
      "# Lables\n",
      "plt.title(\"Study of clustering and early stopping methods\")\n",
      "plt.ylabel(\"Time (secs * 1000000)\")\n",
      "plt.xlabel(\"(Left Cluster, Right Cluster)\")\n",
      "\n",
      "plt.grid(axis = 'y', color ='white', linestyle='-')"
     ],
     "language": "python",
     "metadata": {},
     "outputs": [
      {
       "output_type": "stream",
       "stream": "stdout",
       "text": [
        "0          10\n",
        "1          10\n",
        "2          10\n",
        "3          10\n",
        "4         100\n",
        "5         100\n",
        "6         100\n",
        "7         100\n",
        "8        5000\n",
        "9        5000\n",
        "10       5000\n",
        "11       5000\n",
        "12      10000\n",
        "13      10000\n",
        "14      10000\n",
        "15      10000\n",
        "16      50000\n",
        "17      50000\n",
        "18      50000\n",
        "19      50000\n",
        "20     100000\n",
        "21     100000\n",
        "22     100000\n",
        "23     100000\n",
        "24     500000\n",
        "25     500000\n",
        "26     500000\n",
        "27     500000\n",
        "28    1000000\n",
        "29    1000000\n",
        "30    1000000\n",
        "31    1000000\n",
        "Name: Entity Size\n"
       ]
      },
      {
       "metadata": {},
       "output_type": "display_data",
       "png": "[encoded data removed]",
       "text": [
        "<matplotlib.figure.Figure at 0x7fbd2be53390>"
       ]
      }
     ],
     "prompt_number": 11
    },
    {
     "cell_type": "code",
     "collapsed": false,
     "input": [
      "plt.scatter(test[\"Entity Size\"], test[\"Compression Time\"],)\n",
      "#plt.scatter(test[\"Entity Size\"], test[\"Insertion time(1000)\"])\n",
      "#plt.plot(test[\"Entity Size\"], test[\"Insertion time(1000)\"], )\n"
     ],
     "language": "python",
     "metadata": {},
     "outputs": [
      {
       "metadata": {},
       "output_type": "pyout",
       "prompt_number": 27,
       "text": [
        "<matplotlib.collections.PathCollection at 0x7fbd2b7d9110>"
       ]
      },
      {
       "metadata": {},
       "output_type": "display_data",
       "png": "[encoded data removed]",
       "text": [
        "<matplotlib.figure.Figure at 0x7fbd2b8b6a10>"
       ]
      }
     ],
     "prompt_number": 27
    }
   ],
   "metadata": {}
  }
 ]
}