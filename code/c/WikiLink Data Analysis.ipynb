{
 "metadata": {
  "name": ""
 },
 "nbformat": 3,
 "nbformat_minor": 0,
 "worksheets": [
  {
   "cells": [
    {
     "cell_type": "code",
     "collapsed": false,
     "input": [
      "import csv\n",
      "import matplotlib.pyplot as plt\n",
      "import math\n",
      "from math import log\n",
      "import numpy as np\n",
      "import pandas as pd\n",
      "%matplotlib inline\n",
      "#%matplotlib tk\n",
      "from __future__ import division"
     ],
     "language": "python",
     "metadata": {},
     "outputs": [],
     "prompt_number": 31
    },
    {
     "cell_type": "markdown",
     "metadata": {},
     "source": [
      "# Distribution of Entity sizes for the full wikilink corpus"
     ]
    },
    {
     "cell_type": "code",
     "collapsed": false,
     "input": [
      "\n",
      "filename = \"/data/wikilinks/context-only/sorted_hist.tsv\"\n",
      "   \n",
      "# Read data\n",
      "data = pd.read_table(filename, sep=\"\\t\", header=None, names=[\"page\", \"thecount\"], verbose=False )\n",
      "\n",
      "p1 = plt.plot(range(1, len(data)+1), data.thecount, 'r+')\n",
      "plt.xscale('log')\n",
      "plt.yscale('log')\n",
      "\n",
      "plt.xlabel('Entities')\n",
      "plt.ylabel('Mention counts')\n",
      "\n",
      "plt.title('Distribution of Entity Sizes in the WikiLink Corpus')\n",
      "plt.grid()\n",
      "\n",
      "plt.show()\n"
     ],
     "language": "python",
     "metadata": {},
     "outputs": [
      {
       "metadata": {},
       "output_type": "display_data",
       "png": "[encoded data removed]",
       "text": [
        "<matplotlib.figure.Figure at 0x7ff03ddeef90>"
       ]
      }
     ],
     "prompt_number": 32
    },
    {
     "cell_type": "markdown",
     "metadata": {},
     "source": [
      "# Get the percentage of entities greater than 1000 in size."
     ]
    },
    {
     "cell_type": "code",
     "collapsed": false,
     "input": [
      "t = data[(data['thecount'] <= 1000)]\n",
      "print t['thecount'].sum() / data['thecount'].sum()"
     ],
     "language": "python",
     "metadata": {},
     "outputs": [
      {
       "output_type": "stream",
       "stream": "stdout",
       "text": [
        "0.820606538924\n"
       ]
      }
     ],
     "prompt_number": 45
    },
    {
     "cell_type": "markdown",
     "metadata": {},
     "source": [
      "# Get the percentage of entities greater than 100 in size."
     ]
    },
    {
     "cell_type": "code",
     "collapsed": false,
     "input": [
      "t = data[(data['thecount'] <= 100)]\n",
      "print t['thecount'].sum() / data['thecount'].sum()"
     ],
     "language": "python",
     "metadata": {},
     "outputs": [
      {
       "output_type": "stream",
       "stream": "stdout",
       "text": [
        "0.451817460458\n"
       ]
      }
     ],
     "prompt_number": 46
    },
    {
     "cell_type": "markdown",
     "metadata": {},
     "source": [
      "# Size of c++ entity and mention object size across different size \n",
      "## Clustered by Mentions"
     ]
    },
    {
     "cell_type": "code",
     "collapsed": false,
     "input": [
      "\n",
      "data = []\n",
      "\n",
      "\n",
      "data += [[1,1,100,148]]\n",
      "data += [[10,6,1184,904]]\n",
      "data += [[100,18,10264,2992]]\n",
      "data += [[1000,564,124204,85216]]\n",
      "data += [[10000,5606,1185572,847264]]\n",
      "\n",
      "ind = map(lambda x: x[0], data)\n",
      "mention_bytes = map(lambda x: x[2], data)\n",
      "entity_bytes = map(lambda x: x[3], data)\n",
      "\n",
      "width = .35\n",
      "\n",
      "# Mention plot\n",
      "p1 = plt.bar(ind, mention_bytes, width, color='r', log=True)\n",
      "p2 = plt.bar(ind, entity_bytes, width, color='y',\n",
      "             bottom=mention_bytes, log=True)\n",
      "\n",
      "plt.xscale('log')\n",
      "plt.yscale('log')\n",
      "\n",
      "plt.ylabel(\"Object size (bytes)\")\n",
      "plt.xlabel(\"Mention count\")\n",
      "\n",
      "plt.xticks(np.arange(5)+width, (\"a\",\"b\",\"c\",\"d\",\"e\"))\n",
      "plt.grid(axis = 'y', color ='white', linestyle='-')\n",
      "plt.legend( (p1[0], p2[0]), (\"Mentions\", \"Entities\"))\n",
      "plt.show()\n",
      "\n",
      "\n",
      "\n"
     ],
     "language": "python",
     "metadata": {},
     "outputs": [
      {
       "metadata": {},
       "output_type": "display_data",
       "png": "[encoded data removed]",
       "text": [
        "<matplotlib.figure.Figure at 0x7f9ed84a34d0>"
       ]
      }
     ],
     "prompt_number": 43
    }
   ],
   "metadata": {}
  }
 ]
}